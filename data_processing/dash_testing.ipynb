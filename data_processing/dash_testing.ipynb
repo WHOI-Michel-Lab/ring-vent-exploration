{
 "cells": [
  {
   "cell_type": "code",
   "execution_count": 11,
   "id": "correct-sheriff",
   "metadata": {},
   "outputs": [],
   "source": [
    "%config Completer.use_jedi = False"
   ]
  },
  {
   "cell_type": "code",
   "execution_count": 1,
   "id": "satisfactory-paradise",
   "metadata": {},
   "outputs": [],
   "source": [
    "import pandas as pd\n",
    "import jupyter_dash"
   ]
  },
  {
   "cell_type": "code",
   "execution_count": 8,
   "id": "numerical-contract",
   "metadata": {},
   "outputs": [],
   "source": [
    "import plotly.express as px\n",
    "from jupyter_dash import JupyterDash\n",
    "from dash import html, dcc\n",
    "from dash.dependencies import Input, Output\n"
   ]
  },
  {
   "cell_type": "code",
   "execution_count": 28,
   "id": "korean-independence",
   "metadata": {},
   "outputs": [],
   "source": [
    "import combine_data"
   ]
  },
  {
   "cell_type": "code",
   "execution_count": 31,
   "id": "middle-shareware",
   "metadata": {},
   "outputs": [],
   "source": [
    "from importlib import reload"
   ]
  },
  {
   "cell_type": "code",
   "execution_count": 34,
   "id": "israeli-hebrew",
   "metadata": {},
   "outputs": [
    {
     "data": {
      "text/plain": [
       "<module 'combine_data' from '/Users/jonahfried/whoi/ring-vent-exploration/data_processing/combine_data.py'>"
      ]
     },
     "execution_count": 34,
     "metadata": {},
     "output_type": "execute_result"
    }
   ],
   "source": [
    "reload(combine_data)"
   ]
  },
  {
   "cell_type": "code",
   "execution_count": 35,
   "id": "imposed-eight",
   "metadata": {},
   "outputs": [],
   "source": [
    "data = combine_data.get_csv_and_navest()"
   ]
  },
  {
   "cell_type": "code",
   "execution_count": 39,
   "id": "appreciated-placement",
   "metadata": {},
   "outputs": [],
   "source": [
    "data = data.astype({\n",
    "    col:'float'\n",
    "    for col \n",
    "    in ['temperature', 'salinity_y', 'conductivity_y', 'pressure_y', 'obs_proj', 'oxygen_proj', 'depth']\n",
    "})"
   ]
  },
  {
   "cell_type": "code",
   "execution_count": 37,
   "id": "returning-wiring",
   "metadata": {},
   "outputs": [],
   "source": [
    "columns = list(data.columns)"
   ]
  },
  {
   "cell_type": "code",
   "execution_count": 42,
   "id": "cubic-glass",
   "metadata": {
    "scrolled": false
   },
   "outputs": [
    {
     "data": {
      "text/html": [
       "\n",
       "        <iframe\n",
       "            width=\"100%\"\n",
       "            height=\"650\"\n",
       "            src=\"http://127.0.0.1:8050/\"\n",
       "            frameborder=\"0\"\n",
       "            allowfullscreen\n",
       "        ></iframe>\n",
       "        "
      ],
      "text/plain": [
       "<IPython.lib.display.IFrame at 0x7fd74b700590>"
      ]
     },
     "metadata": {},
     "output_type": "display_data"
    }
   ],
   "source": [
    "# Run this app with `python app.py` and\n",
    "# visit http://127.0.0.1:8050/ in your web browser.\n",
    "\n",
    "import plotly.express as px\n",
    "import pandas as pd\n",
    "\n",
    "app = JupyterDash(__name__)\n",
    "\n",
    "\n",
    "fig = px.bar(df, x=\"Fruit\", y=\"Amount\", color=\"City\", barmode=\"group\")\n",
    "\n",
    "app.layout = html.Div(children=[\n",
    "    html.Div(children=[\n",
    "        dcc.Dropdown(columns, 'temperature', id='x_axis'),\n",
    "        dcc.Dropdown(columns, 'salinity_y', id='y_axis'),\n",
    "        dcc.Dropdown(columns, 'pressure_y', id='color'),\n",
    "    ]), #, style={'display': 'flex', 'flex-direction': 'row'}\n",
    "\n",
    "    dcc.Graph(\n",
    "        id='st-plot',\n",
    "    )\n",
    "])\n",
    "\n",
    "@app.callback(\n",
    "    Output(component_id='st-plot', component_property='figure'),\n",
    "    [\n",
    "        Input(component_id='x_axis', component_property='value'),\n",
    "        Input(component_id='y_axis', component_property='value'),\n",
    "        Input(component_id='color', component_property='value')\n",
    "    ]\n",
    ")\n",
    "def st_plot(x_input, y_input, color_input):\n",
    "    return px.scatter(\n",
    "        data,\n",
    "        x_input,\n",
    "        y_input,\n",
    "        color=color_input\n",
    "    )\n",
    "\n",
    "if __name__ == '__main__':\n",
    "    app.run_server('inline')\n"
   ]
  },
  {
   "cell_type": "code",
   "execution_count": null,
   "id": "sixth-rwanda",
   "metadata": {},
   "outputs": [],
   "source": [
    "d"
   ]
  },
  {
   "cell_type": "code",
   "execution_count": null,
   "id": "delayed-collect",
   "metadata": {},
   "outputs": [],
   "source": []
  }
 ],
 "metadata": {
  "kernelspec": {
   "display_name": "Python 3",
   "language": "python",
   "name": "python3"
  },
  "language_info": {
   "codemirror_mode": {
    "name": "ipython",
    "version": 3
   },
   "file_extension": ".py",
   "mimetype": "text/x-python",
   "name": "python",
   "nbconvert_exporter": "python",
   "pygments_lexer": "ipython3",
   "version": "3.7.9"
  }
 },
 "nbformat": 4,
 "nbformat_minor": 5
}
