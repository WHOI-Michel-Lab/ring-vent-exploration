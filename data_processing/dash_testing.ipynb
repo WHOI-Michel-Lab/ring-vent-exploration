{
 "cells": [
  {
   "cell_type": "code",
   "execution_count": 11,
   "id": "dried-behavior",
   "metadata": {},
   "outputs": [],
   "source": [
    "%config Completer.use_jedi = False"
   ]
  },
  {
   "cell_type": "code",
   "execution_count": 1,
   "id": "cordless-puzzle",
   "metadata": {},
   "outputs": [],
   "source": [
    "import pandas as pd\n",
    "import jupyter_dash"
   ]
  },
  {
   "cell_type": "code",
   "execution_count": 56,
   "id": "crucial-conversion",
   "metadata": {},
   "outputs": [],
   "source": [
    "import plotly.express as px\n",
    "import plotly.graph_objects as go\n",
    "from jupyter_dash import JupyterDash\n",
    "from dash import html, dcc\n",
    "from dash.dependencies import Input, Output\n"
   ]
  },
  {
   "cell_type": "code",
   "execution_count": 51,
   "id": "renewable-monday",
   "metadata": {},
   "outputs": [],
   "source": [
    "import combine_data\n",
    "import utils"
   ]
  },
  {
   "cell_type": "code",
   "execution_count": 31,
   "id": "rapid-socket",
   "metadata": {},
   "outputs": [],
   "source": [
    "from importlib import reload"
   ]
  },
  {
   "cell_type": "code",
   "execution_count": 76,
   "id": "satisfactory-honolulu",
   "metadata": {
    "scrolled": true
   },
   "outputs": [],
   "source": [
    "reload(combine_data)\n",
    "\n",
    "data = combine_data.get_csv_and_navest()"
   ]
  },
  {
   "cell_type": "code",
   "execution_count": 75,
   "id": "stunning-interview",
   "metadata": {},
   "outputs": [],
   "source": [
    "data = data.astype({\n",
    "    col:'float'\n",
    "    for col \n",
    "    in ['temperature', 'salinity_y', 'conductivity_y', 'pressure_y', 'obs_proj', 'oxygen_proj', 'depth']\n",
    "})"
   ]
  },
  {
   "cell_type": "code",
   "execution_count": 37,
   "id": "fiscal-router",
   "metadata": {},
   "outputs": [],
   "source": [
    "columns = list(data.columns)"
   ]
  },
  {
   "cell_type": "code",
   "execution_count": null,
   "id": "green-understanding",
   "metadata": {},
   "outputs": [],
   "source": []
  },
  {
   "cell_type": "code",
   "execution_count": null,
   "id": "current-torture",
   "metadata": {},
   "outputs": [],
   "source": []
  },
  {
   "cell_type": "markdown",
   "id": "nearby-collector",
   "metadata": {},
   "source": [
    "# ST Plot"
   ]
  },
  {
   "cell_type": "code",
   "execution_count": 47,
   "id": "rural-hamburg",
   "metadata": {},
   "outputs": [],
   "source": [
    "def create_selector(html_id, label, default):\n",
    "    return html.Div(children=[\n",
    "            label,  \n",
    "            dcc.Dropdown(columns, default, id=html_id, style={'padding-left':'5px', 'width': '60%'})\n",
    "        ], style={'display': 'flex', 'flex-direction':'row'})"
   ]
  },
  {
   "cell_type": "code",
   "execution_count": 121,
   "id": "consolidated-python",
   "metadata": {
    "scrolled": false
   },
   "outputs": [
    {
     "data": {
      "text/html": [
       "\n",
       "        <iframe\n",
       "            width=\"100%\"\n",
       "            height=\"650\"\n",
       "            src=\"http://127.0.0.1:8050/\"\n",
       "            frameborder=\"0\"\n",
       "            allowfullscreen\n",
       "        ></iframe>\n",
       "        "
      ],
      "text/plain": [
       "<IPython.lib.display.IFrame at 0x7fd74b679f50>"
      ]
     },
     "metadata": {},
     "output_type": "display_data"
    }
   ],
   "source": [
    "# Run this app with `python app.py` and\n",
    "# visit http://127.0.0.1:8050/ in your web browser.\n",
    "\n",
    "import plotly.express as px\n",
    "import pandas as pd\n",
    "\n",
    "app = JupyterDash(__name__)\n",
    "\n",
    "app.layout = html.Div(children=[\n",
    "    html.Div(children=[\n",
    "        create_selector('x_axis', \"X Axis\", 'temperature'),\n",
    "        create_selector('y_axis', \"Y Axis\", 'salinity_y'),\n",
    "        create_selector('color', \"Color\", 'pressure_y'),\n",
    "        \n",
    "    \n",
    "    ]), #, style={'display': 'flex', 'flex-direction': 'row'}\n",
    "\n",
    "    dcc.Graph(\n",
    "        id='st-plot',\n",
    "    )\n",
    "])\n",
    "\n",
    "@app.callback(\n",
    "    Output(component_id='st-plot', component_property='figure'),\n",
    "    [\n",
    "        Input(component_id='x_axis', component_property='value'),\n",
    "        Input(component_id='y_axis', component_property='value'),\n",
    "        Input(component_id='color', component_property='value')\n",
    "    ]\n",
    ")\n",
    "def st_plot(x_input, y_input, color_input):\n",
    "    return px.scatter(\n",
    "        data,\n",
    "        x_input,\n",
    "        y_input,\n",
    "        color=color_input\n",
    "    )\n",
    "\n",
    "if __name__ == '__main__':\n",
    "    app.run_server('inline')\n"
   ]
  },
  {
   "cell_type": "markdown",
   "id": "fuzzy-forge",
   "metadata": {},
   "source": [
    "# Spatial plot"
   ]
  },
  {
   "cell_type": "code",
   "execution_count": 120,
   "id": "immune-activity",
   "metadata": {},
   "outputs": [
    {
     "data": {
      "text/html": [
       "\n",
       "        <iframe\n",
       "            width=\"100%\"\n",
       "            height=\"650\"\n",
       "            src=\"http://127.0.0.1:8050/\"\n",
       "            frameborder=\"0\"\n",
       "            allowfullscreen\n",
       "        ></iframe>\n",
       "        "
      ],
      "text/plain": [
       "<IPython.lib.display.IFrame at 0x7fd74b686950>"
      ]
     },
     "metadata": {},
     "output_type": "display_data"
    }
   ],
   "source": [
    "mesh = utils.get_mesh(utils.MESH_PATH, 1000)\n",
    "\n",
    "app = JupyterDash(__name__)\n",
    "\n",
    "app.layout = html.Div(children=[\n",
    "    dcc.Dropdown(columns, 'temperature', id='color_selector'),\n",
    "    dcc.Slider(min = -2000, max=-1500, value=-1700, id='min_depth'),\n",
    "    dcc.Graph(id = 'spatial')\n",
    "])\n",
    "\n",
    "@app.callback(\n",
    "    Output(component_id = 'spatial', component_property='figure'),\n",
    "    [\n",
    "        Input(component_id = 'color_selector', component_property='value'),\n",
    "        Input(component_id='min_depth', component_property='value')\n",
    "    ]\n",
    ")\n",
    "def update_spatial_graph(color_col, min_depth):\n",
    "    indices = data['depth'] < min_depth\n",
    "    \n",
    "    scatter = go.Scatter3d(\n",
    "        x = data[indices].northing, \n",
    "        y = data[indices].easting, \n",
    "        z = data[indices].depth, \n",
    "        mode = 'markers',\n",
    "        marker = dict(\n",
    "            color = data[indices][color_col], \n",
    "            colorscale = 'turbo',\n",
    "            colorbar=dict(thickness=15, outlinewidth=0)\n",
    "        )\n",
    "    )\n",
    "    fig = go.Figure(data=[mesh, scatter])\n",
    "    fig.update_layout(\n",
    "        margin=dict(l=20, r=20, t=40, b=40),\n",
    "    )\n",
    "    \n",
    "    return fig\n",
    "\n",
    "app.run_server('inline')"
   ]
  }
 ],
 "metadata": {
  "kernelspec": {
   "display_name": "Python 3",
   "language": "python",
   "name": "python3"
  },
  "language_info": {
   "codemirror_mode": {
    "name": "ipython",
    "version": 3
   },
   "file_extension": ".py",
   "mimetype": "text/x-python",
   "name": "python",
   "nbconvert_exporter": "python",
   "pygments_lexer": "ipython3",
   "version": "3.7.9"
  }
 },
 "nbformat": 4,
 "nbformat_minor": 5
}
